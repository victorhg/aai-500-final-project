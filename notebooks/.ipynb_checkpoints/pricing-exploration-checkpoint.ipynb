{
 "cells": [
  {
   "cell_type": "markdown",
   "id": "78f85088-2a13-4293-9258-d14300d3f893",
   "metadata": {},
   "source": [
    "# Group Project - AAI 500 - Pricing Exploration\n",
    "## Group 3\n",
    "- Victoria Dorn\n",
    "- Victor Hugo Germano\n",
    "\n",
    "## Objectives & Hypotesis\n",
    "\n",
    "- Card price prediction based on features and rarity\n",
    "- Win rate estimations based on deck composition\n",
    "- Card synergy compositions \n",
    "- Pay to win? influence of price on deck composition and win rate (possible hypothesis: win rate increases as you spend more money? Expensive decks win more?)\n",
    "\n"
   ]
  },
  {
   "cell_type": "code",
   "execution_count": 1,
   "id": "2c4f533b-6c86-4383-8bc4-16c6aed2c474",
   "metadata": {},
   "outputs": [
    {
     "name": "stdout",
     "output_type": "stream",
     "text": [
      "The history saving thread hit an unexpected error (OperationalError('attempt to write a readonly database')).History will not be written to the database.\n"
     ]
    }
   ],
   "source": [
    "# Load necessary libraries\n",
    "import pandas as pd \n",
    "import numpy as np  \n",
    "import matplotlib.pyplot as plt \n",
    "from scipy import stats\n",
    "import seaborn as sns\n",
    "from matplotlib import gridspec\n",
    "import math\n",
    "\n",
    "sns.set()# Setting seaborn as default style\n",
    "sns.set_theme(style=\"darkgrid\")"
   ]
  },
  {
   "cell_type": "code",
   "execution_count": null,
   "id": "5ceaba9b-8029-4c72-af3d-3ffc4ac68158",
   "metadata": {},
   "outputs": [],
   "source": [
    "# Card info\n",
    "cards_data = pd.read_csv('../dataset/cards.csv', sep=';')\n",
    "card_prices = pd.read_csv('../dataset/cardPrices.csv', sep=',')\n",
    "\n",
    "# Remove unranked and unpowered cards\n",
    "cards_data.drop(cards_data.index[(cards_data[\"edhrecRank\"].isnull())],axis=0, inplace=True)\n",
    "\n",
    "# Remove EUR price entries and Foil Finish\n",
    "card_prices.drop(card_prices.index[(card_prices[\"currency\"] == 'EUR' )],axis=0, inplace=True)\n",
    "card_prices.drop(card_prices.index[(card_prices[\"cardFinish\"] == 'foil' )],axis=0, inplace=True)\n",
    "\n",
    "cards_data.head()"
   ]
  }
 ],
 "metadata": {
  "kernelspec": {
   "display_name": "Python 3 (ipykernel)",
   "language": "python",
   "name": "python3"
  },
  "language_info": {
   "codemirror_mode": {
    "name": "ipython",
    "version": 3
   },
   "file_extension": ".py",
   "mimetype": "text/x-python",
   "name": "python",
   "nbconvert_exporter": "python",
   "pygments_lexer": "ipython3",
   "version": "3.12.4"
  }
 },
 "nbformat": 4,
 "nbformat_minor": 5
}
